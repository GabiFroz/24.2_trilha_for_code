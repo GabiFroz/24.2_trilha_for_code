{
  "nbformat": 4,
  "nbformat_minor": 0,
  "metadata": {
    "colab": {
      "provenance": [],
      "authorship_tag": "ABX9TyMCspUeVuwV/5PKs/5DdkRW",
      "include_colab_link": true
    },
    "kernelspec": {
      "name": "python3",
      "display_name": "Python 3"
    },
    "language_info": {
      "name": "python"
    }
  },
  "cells": [
    {
      "cell_type": "markdown",
      "metadata": {
        "id": "view-in-github",
        "colab_type": "text"
      },
      "source": [
        "<a href=\"https://colab.research.google.com/github/GabiFroz/24.2_trilha_for_code/blob/main/jogo_da_forca.ipynb\" target=\"_parent\"><img src=\"https://colab.research.google.com/assets/colab-badge.svg\" alt=\"Open In Colab\"/></a>"
      ]
    },
    {
      "cell_type": "code",
      "execution_count": null,
      "metadata": {
        "colab": {
          "base_uri": "https://localhost:8080/"
        },
        "id": "kq5Cxty-znHa",
        "outputId": "757f890a-b657-4175-a851-c6903b5ab9c8"
      },
      "outputs": [
        {
          "output_type": "stream",
          "name": "stdout",
          "text": [
            "Palavra: _ _ _ _ _ _ _ _ \n"
          ]
        }
      ],
      "source": [
        "def jogar():\n",
        "    palavra = \"fantasia\"\n",
        "    letras_certas = []\n",
        "    tentativas = 6\n",
        "\n",
        "    while True:\n",
        "        palavra_oculta = \"\"\n",
        "        for letra in palavra:\n",
        "            if letra in letras_certas:\n",
        "                palavra_oculta += letra + \" \"\n",
        "            else:\n",
        "                palavra_oculta += \"_ \"\n",
        "\n",
        "        print(\"Palavra:\", palavra_oculta)\n",
        "\n",
        "        letra = input(\"Digite uma letra: \").lower()\n",
        "\n",
        "        if letra in letras_certas:\n",
        "            print(\"Você já tentou essa letra.\")\n",
        "        elif letra in palavra:\n",
        "            letras_certas.append(letra)\n",
        "            if all(l in letras_certas for l in palavra):\n",
        "                print(\"Parabéns! Você ganhou! A palavra é:\", palavra)\n",
        "                break\n",
        "        else:\n",
        "            tentativas -= 1\n",
        "            print(\"Letra incorreta. Tentativas restantes:\", tentativas)\n",
        "            if tentativas == 0:\n",
        "                print(\"Você perdeu! A palavra era:\", palavra)\n",
        "                break\n",
        "\n",
        "jogar()"
      ]
    }
  ]
}